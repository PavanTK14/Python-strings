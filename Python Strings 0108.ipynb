{
 "cells": [
  {
   "cell_type": "code",
   "execution_count": 5,
   "id": "c83cef97",
   "metadata": {},
   "outputs": [
    {
     "name": "stdout",
     "output_type": "stream",
     "text": [
      "Hello world\n",
      "hello world\n",
      "---hello---\n",
      "2\n",
      "b'hello'\n",
      "True\n",
      "hello   world\n",
      "6\n",
      "Hello, world\n",
      "Hello, John\n",
      "6\n",
      "True\n",
      "True\n",
      "True\n",
      "True\n",
      "True\n",
      "True\n",
      "True\n",
      "True\n",
      "True\n",
      "True\n",
      "True\n",
      "True\n",
      "a-b-c\n",
      "hello-----\n",
      "hello\n",
      "hello\n",
      "jello\n",
      "('hello', ' ', 'world')\n",
      "World\n",
      "Hello\n",
      "hello there\n",
      "7\n",
      "7\n",
      "-----hello\n",
      "('hello', ' ', 'world')\n",
      "['hello', 'world']\n",
      "['hello', 'world']\n",
      "hello\n",
      "['hello', 'world']\n",
      "True\n",
      "hello\n",
      "hELLO wORLD\n",
      "Hello World\n",
      "HELLO\n",
      "00042\n"
     ]
    }
   ],
   "source": [
    "# capitalize()\n",
    "s = \"hello world\"\n",
    "print(s.capitalize())  # Output: \"Hello world\"\n",
    "\n",
    "# casefold()\n",
    "s = \"HELLO WORLD\"\n",
    "print(s.casefold())  # Output: \"hello world\"\n",
    "\n",
    "# center()\n",
    "s = \"hello\"\n",
    "print(s.center(11, '-'))  # Output: \"---hello---\"\n",
    "\n",
    "# count()\n",
    "s = \"hello world\"\n",
    "print(s.count('o'))  # Output: 2\n",
    "\n",
    "# encode()\n",
    "s = \"hello\"\n",
    "print(s.encode())  # Output: b'hello'\n",
    "\n",
    "# endswith()\n",
    "s = \"hello world\"\n",
    "print(s.endswith('world'))  # Output: True\n",
    "\n",
    "# expandtabs()\n",
    "s = \"hello\\tworld\"\n",
    "print(s.expandtabs(4))  # Output: \"hello   world\"\n",
    "\n",
    "# find()\n",
    "s = \"hello world\"\n",
    "print(s.find('world'))  # Output: 6\n",
    "\n",
    "# format()\n",
    "s = \"Hello, {}\"\n",
    "print(s.format('world'))  # Output: \"Hello, world\"\n",
    "\n",
    "# format_map()\n",
    "data = {'name': 'John'}\n",
    "s = \"Hello, {name}\"\n",
    "print(s.format_map(data))  # Output: \"Hello, John\"\n",
    "\n",
    "# index()\n",
    "s = \"hello world\"\n",
    "print(s.index('world'))  # Output: 6\n",
    "\n",
    "# isalnum()\n",
    "s = \"hello123\"\n",
    "print(s.isalnum())  # Output: True\n",
    "\n",
    "# isalpha()\n",
    "s = \"hello\"\n",
    "print(s.isalpha())  # Output: True\n",
    "\n",
    "# isascii()\n",
    "s = \"hello\"\n",
    "print(s.isascii())  # Output: True\n",
    "\n",
    "# isdecimal() / isdigit() / isnumeric()\n",
    "s = \"1234\"\n",
    "print(s.isdecimal())  # Output: True\n",
    "print(s.isdigit())    # Output: True\n",
    "print(s.isnumeric())  # Output: True\n",
    "\n",
    "# isidentifier()\n",
    "s = \"hello\"\n",
    "print(s.isidentifier())  # Output: True\n",
    "\n",
    "# islower()\n",
    "s = \"hello\"\n",
    "print(s.islower())  # Output: True\n",
    "\n",
    "# isprintable()\n",
    "s = \"hello\"\n",
    "print(s.isprintable())  # Output: True\n",
    "\n",
    "# isspace()\n",
    "s = \"   \"\n",
    "print(s.isspace())  # Output: True\n",
    "\n",
    "# istitle()\n",
    "s = \"Hello World\"\n",
    "print(s.istitle())  # Output: True\n",
    "\n",
    "# isupper()\n",
    "s = \"HELLO\"\n",
    "print(s.isupper())  # Output: True\n",
    "\n",
    "# join()\n",
    "s = \"-\"\n",
    "seq = (\"a\", \"b\", \"c\")\n",
    "print(s.join(seq))  # Output: \"a-b-c\"\n",
    "\n",
    "# ljust()\n",
    "s = \"hello\"\n",
    "print(s.ljust(10, '-'))  # Output: \"hello-----\"\n",
    "\n",
    "# lower()\n",
    "s = \"HELLO\"\n",
    "print(s.lower())  # Output: \"hello\"\n",
    "\n",
    "# lstrip()\n",
    "s = \"  hello\"\n",
    "print(s.lstrip())  # Output: \"hello\"\n",
    "\n",
    "# maketrans() / translate()\n",
    "s = \"hello\"\n",
    "trans = s.maketrans(\"h\", \"j\")\n",
    "print(s.translate(trans))  # Output: \"jello\"\n",
    "\n",
    "# partition()\n",
    "s = \"hello world\"\n",
    "print(s.partition(' '))  # Output: ('hello', ' ', 'world')\n",
    "\n",
    "# removeprefix()\n",
    "s = \"HelloWorld\"\n",
    "print(s.removeprefix(\"Hello\"))  # Output: \"World\"\n",
    "\n",
    "# removesuffix()\n",
    "s = \"HelloWorld\"\n",
    "print(s.removesuffix(\"World\"))  # Output: \"Hello\"\n",
    "\n",
    "# replace()\n",
    "s = \"hello world\"\n",
    "print(s.replace('world', 'there'))  # Output: \"hello there\"\n",
    "\n",
    "# rfind()\n",
    "s = \"hello world\"\n",
    "print(s.rfind('o'))  # Output: 7\n",
    "\n",
    "# rindex()\n",
    "s = \"hello world\"\n",
    "print(s.rindex('o'))  # Output: 7\n",
    "\n",
    "# rjust()\n",
    "s = \"hello\"\n",
    "print(s.rjust(10, '-'))  # Output: \"-----hello\"\n",
    "\n",
    "# rpartition()\n",
    "s = \"hello world\"\n",
    "print(s.rpartition(' '))  # Output: ('hello', ' ', 'world')\n",
    "\n",
    "# rsplit() / split()\n",
    "s = \"hello world\"\n",
    "print(s.rsplit())  # Output: ['hello', 'world']\n",
    "print(s.split())   # Output: ['hello', 'world']\n",
    "\n",
    "# rstrip()\n",
    "s = \"hello   \"\n",
    "print(s.rstrip())  # Output: \"hello\"\n",
    "\n",
    "# splitlines()\n",
    "s = \"hello\\nworld\"\n",
    "print(s.splitlines())  # Output: ['hello', 'world']\n",
    "\n",
    "# startswith()\n",
    "s = \"hello world\"\n",
    "print(s.startswith('hello'))  # Output: True\n",
    "\n",
    "# strip()\n",
    "s = \"  hello  \"\n",
    "print(s.strip())  # Output: \"hello\"\n",
    "\n",
    "# swapcase()\n",
    "s = \"Hello World\"\n",
    "print(s.swapcase())  # Output: \"hELLO wORLD\"\n",
    "\n",
    "# title()\n",
    "s = \"hello world\"\n",
    "print(s.title())  # Output: \"Hello World\"\n",
    "\n",
    "# upper()\n",
    "s = \"hello\"\n",
    "print(s.upper())  # Output: \"HELLO\"\n",
    "\n",
    "# zfill()\n",
    "s = \"42\"\n",
    "print(s.zfill(5))  # Output: \"00042\"\n"
   ]
  },
  {
   "cell_type": "code",
   "execution_count": 1,
   "id": "b87db1c7",
   "metadata": {},
   "outputs": [
    {
     "name": "stdout",
     "output_type": "stream",
     "text": [
      "The letter 'l' appears 2 times in the string 'hello'.\n"
     ]
    }
   ],
   "source": [
    "# Define the string\n",
    "text = \"hello\"\n",
    "\n",
    "# Count occurrences of the letter 'l'\n",
    "count_l = text.count('l')\n",
    "\n",
    "# Print the result\n",
    "print(f\"The letter 'l' appears {count_l} times in the string '{text}'.\")"
   ]
  },
  {
   "cell_type": "code",
   "execution_count": 16,
   "id": "8587b0ab",
   "metadata": {},
   "outputs": [
    {
     "name": "stdout",
     "output_type": "stream",
     "text": [
      "2\n"
     ]
    }
   ],
   "source": [
    "text = \"hello\"\n",
    "count_l = text.count('l')\n",
    "print(count_l )"
   ]
  },
  {
   "cell_type": "code",
   "execution_count": 17,
   "id": "429af155",
   "metadata": {},
   "outputs": [
    {
     "name": "stdout",
     "output_type": "stream",
     "text": [
      "The word 'trouble' appears 5 times.\n"
     ]
    }
   ],
   "source": [
    "#Count Occurrences of a Substring\n",
    "#Count the occurrences of the word \"trouble\":\n",
    "Str = \"Dont trouble the trouble, if you trouble the trouble, troubles you\"\n",
    "count_trouble = Str.count('trouble')\n",
    "print(f\"The word 'trouble' appears {count_trouble} times.\")"
   ]
  },
  {
   "cell_type": "code",
   "execution_count": 18,
   "id": "d6b5e687",
   "metadata": {},
   "outputs": [
    {
     "name": "stdout",
     "output_type": "stream",
     "text": [
      "The first occurrence of 'trouble' is at index 5.\n"
     ]
    }
   ],
   "source": [
    "Str = \"Dont trouble the trouble, if you trouble the trouble, troubles you\"\n",
    "index_first_trouble = Str.find('trouble')\n",
    "print(f\"The first occurrence of 'trouble' is at index {index_first_trouble}.\")"
   ]
  },
  {
   "cell_type": "code",
   "execution_count": 21,
   "id": "cb681a88",
   "metadata": {},
   "outputs": [
    {
     "data": {
      "text/plain": [
       "['Dont',\n",
       " 'trouble',\n",
       " 'the',\n",
       " 'trouble,',\n",
       " 'if',\n",
       " 'you',\n",
       " 'trouble',\n",
       " 'the',\n",
       " 'trouble,',\n",
       " 'troubles',\n",
       " 'you']"
      ]
     },
     "execution_count": 21,
     "metadata": {},
     "output_type": "execute_result"
    }
   ],
   "source": [
    "Str.split()"
   ]
  },
  {
   "cell_type": "code",
   "execution_count": 22,
   "id": "dc96b1ee",
   "metadata": {},
   "outputs": [
    {
     "name": "stdout",
     "output_type": "stream",
     "text": [
      "Updated string: Dont challenge the challenge, if you challenge the challenge, challenges you\n"
     ]
    }
   ],
   "source": [
    "Str = \"Dont trouble the trouble, if you trouble the trouble, troubles you\"\n",
    "new_str = Str.replace('trouble', 'challenge')\n",
    "print(\"Updated string:\", new_str)"
   ]
  },
  {
   "cell_type": "code",
   "execution_count": 24,
   "id": "87fb8a07",
   "metadata": {},
   "outputs": [
    {
     "name": "stdout",
     "output_type": "stream",
     "text": [
      "String without punctuation: Dont trouble the trouble if you trouble the trouble troubles you\n"
     ]
    }
   ],
   "source": [
    "import string\n",
    "\n",
    "Str = \"Dont trouble the trouble, if you trouble the trouble, troubles you\"\n",
    "translator = str.maketrans('', '', string.punctuation)\n",
    "clean_str = Str.translate(translator)\n",
    "print(\"String without punctuation:\", clean_str)"
   ]
  },
  {
   "cell_type": "code",
   "execution_count": 25,
   "id": "e75de3f7",
   "metadata": {},
   "outputs": [
    {
     "name": "stdout",
     "output_type": "stream",
     "text": [
      "Uppercase string: DONT TROUBLE THE TROUBLE, IF YOU TROUBLE THE TROUBLE, TROUBLES YOU\n"
     ]
    }
   ],
   "source": [
    "Str = \"Dont trouble the trouble, if you trouble the trouble, troubles you\"\n",
    "upper_str = Str.upper()\n",
    "print(\"Uppercase string:\", upper_str)"
   ]
  },
  {
   "cell_type": "code",
   "execution_count": 26,
   "id": "dea0295f",
   "metadata": {},
   "outputs": [
    {
     "name": "stdout",
     "output_type": "stream",
     "text": [
      "Positions of 'trouble': [5, 17, 33, 45, 54]\n"
     ]
    }
   ],
   "source": [
    "Str = \"Dont trouble the trouble, if you trouble the trouble, troubles you\"\n",
    "start = 0\n",
    "positions = []\n",
    "while True:\n",
    "    start = Str.find('trouble', start)\n",
    "    if start == -1:\n",
    "        break\n",
    "    positions.append(start)\n",
    "    start += len('trouble')\n",
    "\n",
    "print(\"Positions of 'trouble':\", positions)"
   ]
  },
  {
   "cell_type": "code",
   "execution_count": 27,
   "id": "90ad8c1f",
   "metadata": {},
   "outputs": [
    {
     "name": "stdout",
     "output_type": "stream",
     "text": [
      "Starts with 'Dont': True\n"
     ]
    }
   ],
   "source": [
    "Str = \"Dont trouble the trouble, if you trouble the trouble, troubles you\"\n",
    "starts_with_dont = Str.startswith('Dont')\n",
    "print(\"Starts with 'Dont':\", starts_with_dont)"
   ]
  },
  {
   "cell_type": "code",
   "execution_count": 28,
   "id": "2a990960",
   "metadata": {},
   "outputs": [
    {
     "name": "stdout",
     "output_type": "stream",
     "text": [
      "Ends with 'you': True\n"
     ]
    }
   ],
   "source": [
    "Str = \"Dont trouble the trouble, if you trouble the trouble, troubles you\"\n",
    "ends_with_you = Str.endswith('you')\n",
    "print(\"Ends with 'you':\", ends_with_you)"
   ]
  },
  {
   "cell_type": "code",
   "execution_count": 29,
   "id": "c0100cb7",
   "metadata": {},
   "outputs": [
    {
     "name": "stdout",
     "output_type": "stream",
     "text": [
      "Unique words: {'dont', 'the', 'you', 'if', 'trouble', 'trouble,', 'troubles'}\n"
     ]
    }
   ],
   "source": [
    "Str = \"Dont trouble the trouble, if you trouble the trouble, troubles you\"\n",
    "words = Str.lower().split()\n",
    "unique_words = set(words)\n",
    "print(\"Unique words:\", unique_words)"
   ]
  },
  {
   "cell_type": "code",
   "execution_count": 1,
   "id": "3f0d9608",
   "metadata": {},
   "outputs": [
    {
     "name": "stdout",
     "output_type": "stream",
     "text": [
      "Word frequencies: Counter({'trouble': 3, 'the': 2, 'you': 2, 'dont': 1, 'trouble,': 1, 'if': 1, ',': 1, 'troubles': 1})\n"
     ]
    }
   ],
   "source": [
    "from collections import Counter\n",
    "\n",
    "Str = \"Dont trouble the trouble, if you trouble the trouble , troubles you\"\n",
    "words = Str.lower().split()\n",
    "word_count = Counter(words)\n",
    "print(\"Word frequencies:\", word_count)"
   ]
  },
  {
   "cell_type": "code",
   "execution_count": 31,
   "id": "aa6917f3",
   "metadata": {},
   "outputs": [
    {
     "name": "stdout",
     "output_type": "stream",
     "text": [
      "String without leading and trailing whitespace: Dont trouble the trouble, if you trouble the trouble, troubles you\n"
     ]
    }
   ],
   "source": [
    "Str = \"   Dont trouble the trouble, if you trouble the trouble, troubles you   \"\n",
    "clean_str = Str.strip()\n",
    "print(\"String without leading and trailing whitespace:\", clean_str)"
   ]
  },
  {
   "cell_type": "code",
   "execution_count": 37,
   "id": "d542fbff",
   "metadata": {},
   "outputs": [
    {
     "name": "stdout",
     "output_type": "stream",
     "text": [
      "Reversed string: uoy selbuort ,elbuort eht elbuort uoy fi ,elbuort eht elbuort tnoD\n"
     ]
    }
   ],
   "source": [
    "Str = \"Dont trouble the trouble, if you trouble the trouble, troubles you\"\n",
    "reversed_str = Str[::-1]\n",
    "print(\"Reversed string:\", reversed_str)"
   ]
  },
  {
   "cell_type": "code",
   "execution_count": 38,
   "id": "6074f3b1",
   "metadata": {},
   "outputs": [
    {
     "name": "stdout",
     "output_type": "stream",
     "text": [
      "Contains 'trouble': True\n"
     ]
    }
   ],
   "source": [
    "Str = \"Dont trouble the trouble, if you trouble the trouble, troubles you\"\n",
    "contains_trouble = 'trouble' in Str\n",
    "print(\"Contains 'trouble':\", contains_trouble)"
   ]
  },
  {
   "cell_type": "code",
   "execution_count": 39,
   "id": "dbdf376b",
   "metadata": {},
   "outputs": [
    {
     "name": "stdout",
     "output_type": "stream",
     "text": [
      "Joined string: Dont trouble the trouble if you trouble the trouble troubles you\n"
     ]
    }
   ],
   "source": [
    "words = ['Dont', 'trouble', 'the', 'trouble', 'if', 'you', 'trouble', 'the', 'trouble', 'troubles', 'you']\n",
    "joined_str = ' '.join(words)\n",
    "print(\"Joined string:\", joined_str)"
   ]
  },
  {
   "cell_type": "code",
   "execution_count": 40,
   "id": "3d419478",
   "metadata": {},
   "outputs": [
    {
     "name": "stdout",
     "output_type": "stream",
     "text": [
      "Extracted substring: trouble\n"
     ]
    }
   ],
   "source": [
    "Str = \"Dont trouble the trouble, if you trouble the trouble, troubles you\"\n",
    "substring = Str[5:12]  # Extract substring from index 5 to 12\n",
    "print(\"Extracted substring:\", substring)"
   ]
  },
  {
   "cell_type": "code",
   "execution_count": 45,
   "id": "fb670fa0",
   "metadata": {},
   "outputs": [
    {
     "name": "stdout",
     "output_type": "stream",
     "text": [
      "Formatted string: My name is Pavan and I am from Hyderabad\n"
     ]
    }
   ],
   "source": [
    "name = \"Pavan\"\n",
    "place = \"Hyderabad\"\n",
    "formatted_str = f\"My name is {name} and I am from {place}\"\n",
    "print(\"Formatted string:\", formatted_str)"
   ]
  },
  {
   "cell_type": "code",
   "execution_count": 46,
   "id": "6a119bc9",
   "metadata": {},
   "outputs": [
    {
     "name": "stdout",
     "output_type": "stream",
     "text": [
      "Is palindrome: True\n"
     ]
    }
   ],
   "source": [
    "Str = \"madam\"\n",
    "is_palindrome = Str == Str[::-1]\n",
    "print(\"Is palindrome:\", is_palindrome)"
   ]
  },
  {
   "cell_type": "code",
   "execution_count": 47,
   "id": "f5fd80e5",
   "metadata": {},
   "outputs": [
    {
     "name": "stdout",
     "output_type": "stream",
     "text": [
      "List of characters: ['h', 'e', 'l', 'l', 'o']\n"
     ]
    }
   ],
   "source": [
    "Str = \"hello\"\n",
    "char_list = list(Str)\n",
    "print(\"List of characters:\", char_list)"
   ]
  },
  {
   "cell_type": "code",
   "execution_count": 48,
   "id": "cd6af008",
   "metadata": {},
   "outputs": [
    {
     "name": "stdout",
     "output_type": "stream",
     "text": [
      "set of characters: {'l', 'o', 'e', 'h'}\n"
     ]
    }
   ],
   "source": [
    "Str = \"hello\"\n",
    "char_list = set(Str)\n",
    "print(\"set of characters:\", char_list)\n"
   ]
  },
  {
   "cell_type": "code",
   "execution_count": 7,
   "id": "4a5ade50",
   "metadata": {},
   "outputs": [
    {
     "name": "stdout",
     "output_type": "stream",
     "text": [
      "[['Dont', 'trouble'], ['trouble', 'the'], ['the', 'trouble,'], ['trouble,', 'if'], ['if', 'you'], ['you', 'trouble'], ['trouble', 'the'], ['the', 'trouble,'], ['trouble,', 'troubles'], ['troubles', 'you']]\n"
     ]
    }
   ],
   "source": [
    "input_text = \"Dont trouble the trouble, if you trouble the trouble, troubles you\"\n",
    "\n",
    "# Split the text into words\n",
    "words = input_text.split()\n",
    "\n",
    "# Create the list of consecutive word pairs\n",
    "desired_sample_output = [[words[i], words[i + 1]] for i in range(len(words) - 1)]\n",
    "\n",
    "# Display the result\n",
    "print(desired_sample_output)\n"
   ]
  },
  {
   "cell_type": "code",
   "execution_count": 13,
   "id": "d71b4980",
   "metadata": {},
   "outputs": [
    {
     "name": "stdout",
     "output_type": "stream",
     "text": [
      "{4: 1, 2: 1, 3: 4, 7: 4, 8: 1}\n"
     ]
    }
   ],
   "source": [
    "from collections import Counter\n",
    "\n",
    "# Define the input text\n",
    "question = \"Dont trouble the trouble, if you trouble the trouble, troubles you\"\n",
    "\n",
    "# Split the text into words\n",
    "words = question.split()\n",
    "\n",
    "# Calculate the length of each word\n",
    "word_lengths = [len(word.strip(\",.\")) for word in words]  # Remove punctuation\n",
    "\n",
    "# Count the occurrences of each word length\n",
    "length_counts = Counter(word_lengths)\n",
    "\n",
    "# Filter out only the desired lengths (4, 2, 3, 7, 8)\n",
    "desired_lengths = [4, 2, 3, 7, 8]\n",
    "desired_output = {length: length_counts[length] for length in desired_lengths if length in length_counts}\n",
    "\n",
    "# Display the result\n",
    "print(desired_output)\n"
   ]
  },
  {
   "cell_type": "code",
   "execution_count": 9,
   "id": "cf94972f",
   "metadata": {},
   "outputs": [
    {
     "name": "stdout",
     "output_type": "stream",
     "text": [
      "[('Dont', 'trouble'), ('trouble', 'the'), ('the', 'trouble,'), ('trouble,', 'if'), ('if', 'you'), ('you', 'trouble'), ('trouble', 'the'), ('the', 'trouble,'), ('trouble,', 'troubles'), ('troubles', 'you')]\n"
     ]
    }
   ],
   "source": [
    "s=\"Dont trouble the trouble, if you trouble the trouble, troubles you\"\n",
    "def generate_bigrams(s):\n",
    "    words = s.split()\n",
    "    return [(words[i], words[i+1]) for i in range(len(words)-1)]\n",
    "# Generate and print bigrams\n",
    "bigrams = generate_bigrams(s)\n",
    "print(bigrams)"
   ]
  },
  {
   "cell_type": "code",
   "execution_count": 2,
   "id": "0712b896",
   "metadata": {},
   "outputs": [
    {
     "name": "stdout",
     "output_type": "stream",
     "text": [
      "True\n"
     ]
    }
   ],
   "source": [
    "def are_anagrams(s1, s2):\n",
    "    # Remove spaces and convert to lower case for a case-insensitive comparison\n",
    "    s1 = s1.replace(\" \", \"\").lower()\n",
    "    s2 = s2.replace(\" \", \"\").lower()\n",
    "    \n",
    "    # Check if lengths are different\n",
    "    if len(s1) != len(s2):\n",
    "        return False\n",
    "    \n",
    "    # Use Counter to count character frequencies\n",
    "    from collections import Counter\n",
    "    return Counter(s1) == Counter(s2)\n",
    "\n",
    "# Example usage\n",
    "s1 = \"listen\"\n",
    "s2 = \"silent\"\n",
    "print(are_anagrams(s1, s2))  # Output: True\n"
   ]
  },
  {
   "cell_type": "code",
   "execution_count": 3,
   "id": "6b84a606",
   "metadata": {},
   "outputs": [
    {
     "name": "stdout",
     "output_type": "stream",
     "text": [
      "9\n"
     ]
    }
   ],
   "source": [
    "def find_substring(s, sub):\n",
    "    # Find the position of the substring\n",
    "    index = s.find(sub)\n",
    "    return index\n",
    "\n",
    "# Example usage\n",
    "s = \"Find the substring in this string.\"\n",
    "sub = \"substring\"\n",
    "print(find_substring(s, sub))  # Output: 10"
   ]
  },
  {
   "cell_type": "code",
   "execution_count": 5,
   "id": "76ad566c",
   "metadata": {},
   "outputs": [
    {
     "name": "stdout",
     "output_type": "stream",
     "text": [
      "3\n"
     ]
    }
   ],
   "source": [
    "def count_vowels(s):\n",
    "    # Define the set of vowels\n",
    "    vowels = \"aeiouAEIOU\"\n",
    "    \n",
    "    # Initialize a counter\n",
    "    count = 0\n",
    "    \n",
    "    # Iterate through each character in the string\n",
    "    for char in s:\n",
    "        if char in vowels:\n",
    "            count += 1\n",
    "    \n",
    "    return count\n",
    "\n",
    "# Example usage\n",
    "s = \"hello world\"\n",
    "print(count_vowels(s))  # Output: 3\n"
   ]
  },
  {
   "cell_type": "code",
   "execution_count": 6,
   "id": "bfcd6bcd",
   "metadata": {},
   "outputs": [
    {
     "name": "stdout",
     "output_type": "stream",
     "text": [
      "[('This', 'is'), ('is', 'the'), ('the', 'era'), ('era', 'of'), ('of', 'data'), ('data', 'science'), ('science', 'and'), ('and', 'machine'), ('machine', 'learning')]\n"
     ]
    }
   ],
   "source": [
    "s=\"This is the era of data science and machine learning\"\n",
    "def generate_bigrams(s):\n",
    "    words = s.split()\n",
    "    return [(words[i], words[i+1]) for i in range(len(words)-1)]\n",
    "# Generate and print bigrams\n",
    "bigrams = generate_bigrams(s)\n",
    "print(bigrams)"
   ]
  },
  {
   "cell_type": "code",
   "execution_count": 14,
   "id": "d96322d4",
   "metadata": {},
   "outputs": [
    {
     "name": "stdout",
     "output_type": "stream",
     "text": [
      "olleh\n"
     ]
    }
   ],
   "source": [
    "def reverse_string(s):\n",
    "    return s[::-1]\n",
    "\n",
    "# Example usage\n",
    "s = \"hello\"\n",
    "print(reverse_string(s))  # Output: \"olleh\""
   ]
  },
  {
   "cell_type": "code",
   "execution_count": 15,
   "id": "c7c43854",
   "metadata": {},
   "outputs": [
    {
     "name": "stdout",
     "output_type": "stream",
     "text": [
      "2\n"
     ]
    }
   ],
   "source": [
    "def count_character(s, char):\n",
    "    return s.count(char)\n",
    "\n",
    "# Example usage\n",
    "s = \"hello world\"\n",
    "char = 'o'\n",
    "print(count_character(s, char))  # Output: 2"
   ]
  },
  {
   "cell_type": "code",
   "execution_count": 16,
   "id": "e033bc1b",
   "metadata": {},
   "outputs": [
    {
     "name": "stdout",
     "output_type": "stream",
     "text": [
      "helo\n"
     ]
    }
   ],
   "source": [
    "def remove_duplicates(s):\n",
    "    return ''.join(sorted(set(s), key=s.index))\n",
    "\n",
    "# Example usage\n",
    "s = \"hello\"\n",
    "print(remove_duplicates(s))  # Output: \"helo\""
   ]
  },
  {
   "cell_type": "code",
   "execution_count": 17,
   "id": "81713883",
   "metadata": {},
   "outputs": [
    {
     "name": "stdout",
     "output_type": "stream",
     "text": [
      "sentence\n"
     ]
    }
   ],
   "source": [
    "def longest_word(s):\n",
    "    words = s.split()\n",
    "    return max(words, key=len)\n",
    "\n",
    "# Example usage\n",
    "s = \"Find the longest word in this sentence\"\n",
    "print(longest_word(s))  # Output: \"sentence\""
   ]
  },
  {
   "cell_type": "code",
   "execution_count": 18,
   "id": "4154b584",
   "metadata": {},
   "outputs": [
    {
     "name": "stdout",
     "output_type": "stream",
     "text": [
      "I love SAS\n"
     ]
    }
   ],
   "source": [
    "def replace_substring(s, old, new):\n",
    "    return s.replace(old, new)\n",
    "\n",
    "# Example usage\n",
    "s = \"I love Python\"\n",
    "old = \"Python\"\n",
    "new = \"SAS\"\n",
    "print(replace_substring(s, old, new))  # Output: \"I love Java\""
   ]
  },
  {
   "cell_type": "code",
   "execution_count": 19,
   "id": "cefc6ac7",
   "metadata": {},
   "outputs": [
    {
     "name": "stdout",
     "output_type": "stream",
     "text": [
      "[0, 2, 4, 6]\n"
     ]
    }
   ],
   "source": [
    "def find_all_substring_positions(s, sub):\n",
    "    positions = []\n",
    "    start = 0\n",
    "    while True:\n",
    "        start = s.find(sub, start)\n",
    "        if start == -1:\n",
    "            break\n",
    "        positions.append(start)\n",
    "        start += len(sub)\n",
    "    return positions\n",
    "\n",
    "# Example usage\n",
    "s = \"abababab\"\n",
    "sub = \"ab\"\n",
    "print(find_all_substring_positions(s, sub))  # Output: [0, 2, 4, 6]"
   ]
  },
  {
   "cell_type": "code",
   "execution_count": 20,
   "id": "7c4e6f0f",
   "metadata": {},
   "outputs": [
    {
     "name": "stdout",
     "output_type": "stream",
     "text": [
      "Capitalize Each Word\n"
     ]
    }
   ],
   "source": [
    "def capitalize_words(s):\n",
    "    return ' '.join(word.capitalize() for word in s.split())\n",
    "\n",
    "# Example usage\n",
    "s = \"capitalize each word\"\n",
    "print(capitalize_words(s))  # Output: \"Capitalize Each Word\""
   ]
  },
  {
   "cell_type": "code",
   "execution_count": 21,
   "id": "72fb5028",
   "metadata": {},
   "outputs": [
    {
     "name": "stdout",
     "output_type": "stream",
     "text": [
      "2024\n"
     ]
    }
   ],
   "source": [
    "def extract_digits(s):\n",
    "    return ''.join(char for char in s if char.isdigit())\n",
    "\n",
    "# Example usage\n",
    "s = \"The year is 2024\"\n",
    "print(extract_digits(s))  # Output: \"2024\""
   ]
  },
  {
   "cell_type": "code",
   "execution_count": 22,
   "id": "edad0fdd",
   "metadata": {},
   "outputs": [
    {
     "name": "stdout",
     "output_type": "stream",
     "text": [
      "{'hello': 2, 'world': 1}\n"
     ]
    }
   ],
   "source": [
    "from collections import Counter\n",
    "\n",
    "def count_word_frequencies(s):\n",
    "    words = s.split()\n",
    "    return dict(Counter(words))\n",
    "\n",
    "# Example usage\n",
    "s = \"hello hello world\"\n",
    "print(count_word_frequencies(s))  # Output: {'hello': 2, 'world': 1}"
   ]
  },
  {
   "cell_type": "code",
   "execution_count": 23,
   "id": "a3072a4c",
   "metadata": {},
   "outputs": [
    {
     "name": "stdout",
     "output_type": "stream",
     "text": [
      "w\n"
     ]
    }
   ],
   "source": [
    "# Find non Repeating character\n",
    "from collections import Counter\n",
    "\n",
    "def first_non_repeating_char(s):\n",
    "    count = Counter(s)\n",
    "    for char in s:\n",
    "        if count[char] == 1:\n",
    "            return char\n",
    "    return None\n",
    "\n",
    "# Example usage\n",
    "s = \"swiss\"\n",
    "print(first_non_repeating_char(s))  # Output: 'w'"
   ]
  },
  {
   "cell_type": "code",
   "execution_count": 24,
   "id": "9e975bd3",
   "metadata": {},
   "outputs": [
    {
     "name": "stdout",
     "output_type": "stream",
     "text": [
      "extract\n"
     ]
    }
   ],
   "source": [
    "#Extract Substring Between Two Delimiters\n",
    "def extract_between_delimiters(s, start_delim, end_delim):\n",
    "    start_index = s.find(start_delim) + len(start_delim)\n",
    "    end_index = s.find(end_delim, start_index)\n",
    "    return s[start_index:end_index]\n",
    "\n",
    "# Example usage\n",
    "s = \"start:extract:this:end\"\n",
    "start_delim = \":\"\n",
    "end_delim = \":\"\n",
    "print(extract_between_delimiters(s, start_delim, end_delim))  # Output: \"extract\""
   ]
  },
  {
   "cell_type": "code",
   "execution_count": 25,
   "id": "ff56d40b",
   "metadata": {},
   "outputs": [
    {
     "name": "stdout",
     "output_type": "stream",
     "text": [
      "data******\n"
     ]
    }
   ],
   "source": [
    "#pad a fixed length\n",
    "def pad_string(s, length, pad_char=' '):\n",
    "    return s.ljust(length, pad_char)\n",
    "\n",
    "# Example usage\n",
    "s = \"data\"\n",
    "length = 10\n",
    "pad_char = '*'\n",
    "print(pad_string(s, length, pad_char))  # Output: \"data******\""
   ]
  },
  {
   "cell_type": "code",
   "execution_count": 26,
   "id": "f0a46f41",
   "metadata": {},
   "outputs": [
    {
     "data": {
      "text/html": [
       "<div>\n",
       "<style scoped>\n",
       "    .dataframe tbody tr th:only-of-type {\n",
       "        vertical-align: middle;\n",
       "    }\n",
       "\n",
       "    .dataframe tbody tr th {\n",
       "        vertical-align: top;\n",
       "    }\n",
       "\n",
       "    .dataframe thead th {\n",
       "        text-align: right;\n",
       "    }\n",
       "</style>\n",
       "<table border=\"1\" class=\"dataframe\">\n",
       "  <thead>\n",
       "    <tr style=\"text-align: right;\">\n",
       "      <th></th>\n",
       "      <th>name</th>\n",
       "      <th>marks</th>\n",
       "    </tr>\n",
       "  </thead>\n",
       "  <tbody>\n",
       "    <tr>\n",
       "      <th>0</th>\n",
       "      <td>A</td>\n",
       "      <td>48</td>\n",
       "    </tr>\n",
       "    <tr>\n",
       "      <th>1</th>\n",
       "      <td>B</td>\n",
       "      <td>58</td>\n",
       "    </tr>\n",
       "    <tr>\n",
       "      <th>2</th>\n",
       "      <td>c</td>\n",
       "      <td>78</td>\n",
       "    </tr>\n",
       "    <tr>\n",
       "      <th>3</th>\n",
       "      <td>D</td>\n",
       "      <td>67</td>\n",
       "    </tr>\n",
       "  </tbody>\n",
       "</table>\n",
       "</div>"
      ],
      "text/plain": [
       "  name  marks\n",
       "0    A     48\n",
       "1    B     58\n",
       "2    c     78\n",
       "3    D     67"
      ]
     },
     "execution_count": 26,
     "metadata": {},
     "output_type": "execute_result"
    }
   ],
   "source": [
    "import pandas as pd\n",
    "exam_data={'name':[\"A\",\"B\",\"c\", \"D\"],'marks':[48, 58,78, 67]}\n",
    "df= pd.DataFrame (exam_data);\n",
    "df"
   ]
  },
  {
   "cell_type": "code",
   "execution_count": 27,
   "id": "81abf59e",
   "metadata": {},
   "outputs": [
    {
     "name": "stdout",
     "output_type": "stream",
     "text": [
      "['abc', 'def', 'gh']\n"
     ]
    }
   ],
   "source": [
    "#Split string to chunks\n",
    "def split_into_chunks(s, chunk_size):\n",
    "    return [s[i:i+chunk_size] for i in range(0, len(s), chunk_size)]\n",
    "\n",
    "# Example usage\n",
    "s = \"abcdefgh\"\n",
    "chunk_size = 3\n",
    "print(split_into_chunks(s, chunk_size))  # Output: ['abc', 'def', 'gh']\n"
   ]
  },
  {
   "cell_type": "code",
   "execution_count": null,
   "id": "9f65911b",
   "metadata": {},
   "outputs": [],
   "source": [
    "#Find Longest Substring Without Repeating Characters\n",
    "def longest_unique_substring(s):\n",
    "    start = max_length = 0\n",
    "    char_index = {}\n",
    "    \n",
    "    for i, char in enumerate(s):\n",
    "        if char in char_index and char_index[char] >= start:\n",
    "            start = char_index[char] + 1\n",
    "        char_index[char] = i\n",
    "        max_length = max(max_length, i - start + 1)\n",
    "    \n",
    "    return max_length\n",
    "\n",
    "# Example usage\n",
    "s = \"abcabcbb\"\n",
    "print(longest_unique_substring(s))  # Output: 3 (substring \"abc\")\n"
   ]
  },
  {
   "cell_type": "code",
   "execution_count": 28,
   "id": "6415bbd9",
   "metadata": {},
   "outputs": [
    {
     "name": "stdout",
     "output_type": "stream",
     "text": [
      "fl\n"
     ]
    }
   ],
   "source": [
    "# Find Common Prefix in a List of Strings\n",
    "def longest_common_prefix(strs):\n",
    "    if not strs:\n",
    "        return \"\"\n",
    "    \n",
    "    prefix = strs[0]\n",
    "    for s in strs[1:]:\n",
    "        while not s.startswith(prefix):\n",
    "            prefix = prefix[:-1]\n",
    "            if not prefix:\n",
    "                return \"\"\n",
    "    return prefix\n",
    "\n",
    "# Example usage\n",
    "strs = [\"flower\", \"flow\", \"flight\"]\n",
    "print(longest_common_prefix(strs))  # Output: \"fl\"\n"
   ]
  },
  {
   "cell_type": "code",
   "execution_count": 29,
   "id": "0873aad9",
   "metadata": {},
   "outputs": [
    {
     "name": "stdout",
     "output_type": "stream",
     "text": [
      "True\n"
     ]
    }
   ],
   "source": [
    "#Check if Two Strings are Rotations of Each Other\n",
    "def is_rotation(s1, s2):\n",
    "    if len(s1) != len(s2):\n",
    "        return False\n",
    "    return s2 in s1 + s1\n",
    "\n",
    "# Example usage\n",
    "s1 = \"waterbottle\"\n",
    "s2 = \"erbottlewat\"\n",
    "print(is_rotation(s1, s2))  # Output: True\n"
   ]
  },
  {
   "cell_type": "code",
   "execution_count": 30,
   "id": "ad40c200",
   "metadata": {},
   "outputs": [
    {
     "name": "stdout",
     "output_type": "stream",
     "text": [
      "World Hello\n"
     ]
    }
   ],
   "source": [
    "#Reverse\n",
    "def reverse_words(s):\n",
    "    return ' '.join(s.split()[::-1])\n",
    "\n",
    "# Example usage\n",
    "s = \"Hello World\"\n",
    "print(reverse_words(s))  # Output: \"World Hello\""
   ]
  },
  {
   "cell_type": "code",
   "execution_count": 31,
   "id": "5f13b7b5",
   "metadata": {},
   "outputs": [
    {
     "name": "stdout",
     "output_type": "stream",
     "text": [
      "4\n"
     ]
    }
   ],
   "source": [
    "def count_words(s):\n",
    "    return len(s.split())\n",
    "\n",
    "# Example usage\n",
    "s = \"The quick brown fox\"\n",
    "print(count_words(s))  # Output: 4"
   ]
  },
  {
   "cell_type": "code",
   "execution_count": 32,
   "id": "38e3caf5",
   "metadata": {},
   "outputs": [
    {
     "name": "stdout",
     "output_type": "stream",
     "text": [
      "cdefab\n"
     ]
    }
   ],
   "source": [
    "def rotate_string(s, n):\n",
    "    n = n % len(s)  # Handle rotation larger than string length\n",
    "    return s[n:] + s[:n]\n",
    "\n",
    "# Example usage\n",
    "s = \"abcdef\"\n",
    "n = 2\n",
    "print(rotate_string(s, n))  # Output: \"cdefab\""
   ]
  },
  {
   "cell_type": "code",
   "execution_count": 34,
   "id": "42e8e58d",
   "metadata": {},
   "outputs": [
    {
     "name": "stdout",
     "output_type": "stream",
     "text": [
      "a3b3c2\n"
     ]
    }
   ],
   "source": [
    "#Compress String Using Run-Length Encoding\n",
    "def run_length_encoding(s):\n",
    "    if not s:\n",
    "        return \"\"\n",
    "    \n",
    "    compressed = []\n",
    "    count = 1\n",
    "    for i in range(1, len(s)):\n",
    "        if s[i] == s[i-1]:\n",
    "            count += 1\n",
    "        else:\n",
    "            compressed.append(s[i-1] + str(count))\n",
    "            count = 1\n",
    "    compressed.append(s[-1] + str(count))\n",
    "    return ''.join(compressed)\n",
    "\n",
    "# Example usage\n",
    "s = \"aaabbbcc\"\n",
    "print(run_length_encoding(s))  # Output: \"a3b3c2\"\n"
   ]
  },
  {
   "cell_type": "code",
   "execution_count": 35,
   "id": "285b416f",
   "metadata": {},
   "outputs": [
    {
     "name": "stdout",
     "output_type": "stream",
     "text": [
      "a\n"
     ]
    }
   ],
   "source": [
    "from collections import Counter\n",
    "\n",
    "def most_frequent_char(s):\n",
    "    count = Counter(s)\n",
    "    return count.most_common(1)[0][0]\n",
    "\n",
    "# Example usage\n",
    "s = \"abracadabra\"\n",
    "print(most_frequent_char(s))  # Output: \"a\""
   ]
  },
  {
   "cell_type": "code",
   "execution_count": 36,
   "id": "01bd25ee",
   "metadata": {},
   "outputs": [
    {
     "name": "stdout",
     "output_type": "stream",
     "text": [
      "True\n"
     ]
    }
   ],
   "source": [
    "def is_subsequence(s1, s2):\n",
    "    iter_s2 = iter(s2)\n",
    "    return all(char in iter_s2 for char in s1)\n",
    "\n",
    "# Example usage\n",
    "s1 = \"abc\"\n",
    "s2 = \"aebdc\"\n",
    "print(is_subsequence(s1, s2))  # Output: True\n"
   ]
  },
  {
   "cell_type": "code",
   "execution_count": 37,
   "id": "457689d1",
   "metadata": {},
   "outputs": [
    {
     "name": "stdout",
     "output_type": "stream",
     "text": [
      "ana\n"
     ]
    }
   ],
   "source": [
    "def longest_repeated_substring(s):\n",
    "    n = len(s)\n",
    "    suffixes = sorted(range(n), key=lambda i: s[i:])\n",
    "    lcp = [0] * n\n",
    "    for i in range(1, n):\n",
    "        j = suffixes[i]\n",
    "        k = suffixes[i-1]\n",
    "        while j + lcp[i] < n and k + lcp[i] < n and s[j + lcp[i]] == s[k + lcp[i]]:\n",
    "            lcp[i] += 1\n",
    "    max_lcp = max(lcp)\n",
    "    return s[suffixes[lcp.index(max_lcp)]:suffixes[lcp.index(max_lcp)] + max_lcp]\n",
    "\n",
    "# Example usage\n",
    "s = \"banana\"\n",
    "print(longest_repeated_substring(s))  # Output: \"ana\""
   ]
  },
  {
   "cell_type": "code",
   "execution_count": 38,
   "id": "e9c1608c",
   "metadata": {},
   "outputs": [
    {
     "name": "stdout",
     "output_type": "stream",
     "text": [
      "camel_case_example\n"
     ]
    }
   ],
   "source": [
    "import re\n",
    "\n",
    "def camel_to_snake(s):\n",
    "    return re.sub('([a-z0-9])([A-Z])', r'\\1_\\2', s).lower()\n",
    "\n",
    "# Example usage\n",
    "s = \"camelCaseExample\"\n",
    "print(camel_to_snake(s))  # Output: \"camel_case_example\""
   ]
  },
  {
   "cell_type": "code",
   "execution_count": 39,
   "id": "db25444b",
   "metadata": {},
   "outputs": [
    {
     "name": "stdout",
     "output_type": "stream",
     "text": [
      "['info@example.com', 'support@domain.com']\n"
     ]
    }
   ],
   "source": [
    "import re\n",
    "\n",
    "def extract_emails(s):\n",
    "    return re.findall(r'\\b[A-Za-z0-9._%+-]+@[A-Za-z0-9.-]+\\.[A-Z|a-z]{2,}\\b', s)\n",
    "\n",
    "# Example usage\n",
    "s = \"Contact us at info@example.com or support@domain.com\"\n",
    "print(extract_emails(s))  # Output: ['info@example.com', 'support@domain.com']"
   ]
  },
  {
   "cell_type": "code",
   "execution_count": 40,
   "id": "51627fe7",
   "metadata": {},
   "outputs": [
    {
     "name": "stdout",
     "output_type": "stream",
     "text": [
      "f\n"
     ]
    }
   ],
   "source": [
    "def find_missing_letter(arr):\n",
    "    full_set = set(chr(i) for i in range(ord('a'), ord('z') + 1))\n",
    "    arr_set = set(arr)\n",
    "    missing_letter = full_set - arr_set\n",
    "    return missing_letter.pop() if missing_letter else None\n",
    "\n",
    "# Example usage\n",
    "arr = ['a', 'b', 'c', 'd', 'e', 'g', 'h', 'i', 'j', 'k', 'l', 'm', 'n', 'o', 'p', 'q', 'r', 's', 't', 'u', 'v', 'w', 'x', 'y', 'z']\n",
    "print(find_missing_letter(arr))  # Output: \"f\"\n"
   ]
  },
  {
   "cell_type": "code",
   "execution_count": 41,
   "id": "80dfa3c4",
   "metadata": {},
   "outputs": [
    {
     "name": "stdout",
     "output_type": "stream",
     "text": [
      "['abc', 'acb', 'bac', 'bca', 'cab', 'cba']\n"
     ]
    }
   ],
   "source": [
    "from itertools import permutations\n",
    "\n",
    "def generate_permutations(s):\n",
    "    return [''.join(p) for p in permutations(s)]\n",
    "\n",
    "# Example usage\n",
    "s = \"abc\"\n",
    "print(generate_permutations(s))  # Output: ['abc', 'acb', 'bac', 'bca', 'cab', 'cba']"
   ]
  },
  {
   "cell_type": "code",
   "execution_count": 46,
   "id": "1a94e0cf",
   "metadata": {},
   "outputs": [
    {
     "name": "stdout",
     "output_type": "stream",
     "text": [
      "BANC\n"
     ]
    }
   ],
   "source": [
    "#Find the Shortest Substring Containing All Characters\n",
    "from collections import Counter\n",
    "\n",
    "def min_window_substring(s1, s2):\n",
    "    if not s1 or not s2:\n",
    "        return \"\"\n",
    "    \n",
    "    required = Counter(s2)\n",
    "    l, r = 0, 0\n",
    "    min_len = float(\"inf\")\n",
    "    min_substr = \"\"\n",
    "    window_counts = {}\n",
    "    have = 0\n",
    "    need = len(required)\n",
    "    \n",
    "    while r < len(s1):\n",
    "        char = s1[r]\n",
    "        window_counts[char] = window_counts.get(char, 0) + 1\n",
    "        if char in required and window_counts[char] == required[char]:\n",
    "            have += 1\n",
    "        \n",
    "        while l <= r and have == need:\n",
    "            if (r - l + 1) < min_len:\n",
    "                min_len = r - l + 1\n",
    "                min_substr = s1[l:r+1]\n",
    "            \n",
    "            window_counts[s1[l]] -= 1\n",
    "            if s1[l] in required and window_counts[s1[l]] < required[s1[l]]:\n",
    "                have -= 1\n",
    "            l += 1\n",
    "        \n",
    "        r += 1\n",
    "    \n",
    "    return min_substr\n",
    "\n",
    "# Example usage\n",
    "s1 = \"ADOBECODEBANC\"\n",
    "s2 = \"ABC\"\n",
    "print(min_window_substring(s1, s2))  # Output: \"BANC\"\n"
   ]
  },
  {
   "cell_type": "code",
   "execution_count": null,
   "id": "9c1ce962",
   "metadata": {},
   "outputs": [],
   "source": [
    "def substrings_of_length(s, length):\n",
    "    return [s[i:i+length] for i in range(len(s) - length + 1)]\n",
    "\n",
    "# Example usage\n",
    "s = \"abcdef\"\n",
    "length = 3\n",
    "print(substrings_of_length(s, length))  # Output: ['abc', 'bcd', 'cde', 'def']\n"
   ]
  }
 ],
 "metadata": {
  "kernelspec": {
   "display_name": "Python 3 (ipykernel)",
   "language": "python",
   "name": "python3"
  },
  "language_info": {
   "codemirror_mode": {
    "name": "ipython",
    "version": 3
   },
   "file_extension": ".py",
   "mimetype": "text/x-python",
   "name": "python",
   "nbconvert_exporter": "python",
   "pygments_lexer": "ipython3",
   "version": "3.9.7"
  }
 },
 "nbformat": 4,
 "nbformat_minor": 5
}
